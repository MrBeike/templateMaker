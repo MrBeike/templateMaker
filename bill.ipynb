{
 "cells": [
  {
   "cell_type": "code",
   "execution_count": 1,
   "metadata": {},
   "outputs": [],
   "source": [
    "import pandas as pd"
   ]
  },
  {
   "cell_type": "code",
   "execution_count": null,
   "metadata": {},
   "outputs": [],
   "source": [
    "f = pd.ExcelFile('bill.xlsx')\n",
    "sheet = f.sheet_names\n",
    "sheet"
   ]
  },
  {
   "cell_type": "code",
   "execution_count": null,
   "metadata": {},
   "outputs": [],
   "source": [
    "dataSet = []\n",
    "for i in sheet:\n",
    "    data = pd.read_excel('bill.xlsx', sheet_name=i)\n",
    "    data[\"字段中文名称\"] = data[\"字段中文名称\"].ffill()\n",
    "    dataSet.append(data)\n",
    "dataSet"
   ]
  },
  {
   "cell_type": "code",
   "execution_count": null,
   "metadata": {},
   "outputs": [],
   "source": [
    "data1 = dataSet[0]\n",
    "data1New = data1.groupby([\"字段中文名称\"],sort=False)['填写规则'].apply(list).to_frame()\n",
    "data1New['填写规则'] = data1New['填写规则'].apply(lambda x:str(x).replace(\"[\",\"\").replace(\"]\",\"\").replace(\"'\",\"\"))\n",
    "data1New"
   ]
  },
  {
   "cell_type": "code",
   "execution_count": 21,
   "metadata": {},
   "outputs": [],
   "source": [
    "transport = data1New.T"
   ]
  },
  {
   "cell_type": "code",
   "execution_count": 23,
   "metadata": {},
   "outputs": [],
   "source": [
    "transport.to_excel('newbill.xlsx', sheet_name='transport',index=False)"
   ]
  },
  {
   "cell_type": "code",
   "execution_count": 24,
   "metadata": {},
   "outputs": [
    {
     "data": {
      "text/plain": [
       "['存量票据融资信息', '票据融资发生额信息', '存量再贴现信息', '再贴现发生额信息', '存量银行承兑汇票信息', '银行承兑汇票发生额信息']"
      ]
     },
     "execution_count": 24,
     "metadata": {},
     "output_type": "execute_result"
    }
   ],
   "source": [
    "f = pd.ExcelFile('newbill.xlsx')\n",
    "sheet = f.sheet_names\n",
    "sheet"
   ]
  },
  {
   "cell_type": "code",
   "execution_count": 44,
   "metadata": {},
   "outputs": [],
   "source": [
    "from openpyxl import load_workbook\n",
    "from openpyxl.comments import Comment"
   ]
  },
  {
   "cell_type": "code",
   "execution_count": 32,
   "metadata": {},
   "outputs": [
    {
     "data": {
      "text/plain": [
       "[<Worksheet \"存量票据融资信息\">,\n",
       " <Worksheet \"票据融资发生额信息\">,\n",
       " <Worksheet \"存量再贴现信息\">,\n",
       " <Worksheet \"再贴现发生额信息\">,\n",
       " <Worksheet \"存量银行承兑汇票信息\">,\n",
       " <Worksheet \"银行承兑汇票发生额信息\">]"
      ]
     },
     "execution_count": 32,
     "metadata": {},
     "output_type": "execute_result"
    }
   ],
   "source": [
    "wb = load_workbook('newbill.xlsx')\n",
    "wsSet = []\n",
    "for i in sheet:\n",
    "    ws = wb[i]\n",
    "    wsSet.append(ws)\n",
    "wsSet"
   ]
  },
  {
   "cell_type": "code",
   "execution_count": 45,
   "metadata": {},
   "outputs": [],
   "source": [
    "ws1 =  wsSet[0]\n",
    "for column in range(1,ws1.max_column+1):\n",
    "    commentContent = ws1.cell(row=2,column=column).value\n",
    "    comment = Comment(commentContent, 'xeroxYor')\n",
    "    ws1.cell(row=1,column=column).comment = comment\n",
    "    wb.save('test.xlsx')"
   ]
  }
 ],
 "metadata": {
  "interpreter": {
   "hash": "29d378c6f9f9303028c651f034ce8b915ddf31b448ad445ead3b2b3c8d60aef3"
  },
  "kernelspec": {
   "display_name": "Python 3.9.5 64-bit",
   "language": "python",
   "name": "python3"
  },
  "language_info": {
   "codemirror_mode": {
    "name": "ipython",
    "version": 3
   },
   "file_extension": ".py",
   "mimetype": "text/x-python",
   "name": "python",
   "nbconvert_exporter": "python",
   "pygments_lexer": "ipython3",
   "version": "3.9.5"
  },
  "orig_nbformat": 4
 },
 "nbformat": 4,
 "nbformat_minor": 2
}
